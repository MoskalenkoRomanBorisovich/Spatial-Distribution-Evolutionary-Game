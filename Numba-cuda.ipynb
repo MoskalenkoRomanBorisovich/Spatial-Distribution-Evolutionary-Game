{
 "cells": [
  {
   "cell_type": "code",
   "execution_count": 1,
   "metadata": {},
   "outputs": [],
   "source": [
    "from numba import cuda\n",
    "from numba import njit, jit\n",
    "import numpy as np"
   ]
  },
  {
   "cell_type": "markdown",
   "metadata": {},
   "source": [
    "Тест cuda.jit"
   ]
  },
  {
   "cell_type": "code",
   "execution_count": 2,
   "metadata": {},
   "outputs": [],
   "source": [
    "@cuda.jit\n",
    "def increment_by_one(arr):\n",
    "    pos = cuda.grid(1)\n",
    "    if pos < arr.size:\n",
    "        arr[pos] += 1"
   ]
  },
  {
   "cell_type": "code",
   "execution_count": 3,
   "metadata": {},
   "outputs": [],
   "source": [
    "arr = np.zeros(10, dtype=int)\n",
    "for i in range(len(arr)):\n",
    "    arr[i] = i"
   ]
  },
  {
   "cell_type": "code",
   "execution_count": 4,
   "metadata": {},
   "outputs": [
    {
     "data": {
      "text/plain": [
       "array([0, 1, 2, 3, 4, 5, 6, 7, 8, 9])"
      ]
     },
     "execution_count": 4,
     "metadata": {},
     "output_type": "execute_result"
    }
   ],
   "source": [
    "arr"
   ]
  },
  {
   "cell_type": "code",
   "execution_count": 5,
   "metadata": {},
   "outputs": [],
   "source": [
    "threadsperblock = 32\n",
    "blockspergrid = (arr.size + (threadsperblock - 1)) // threadsperblock"
   ]
  },
  {
   "cell_type": "code",
   "execution_count": 6,
   "metadata": {},
   "outputs": [],
   "source": [
    "increment_by_one[blockspergrid, threadsperblock](arr)"
   ]
  },
  {
   "cell_type": "code",
   "execution_count": 7,
   "metadata": {},
   "outputs": [
    {
     "data": {
      "text/plain": [
       "array([ 1,  2,  3,  4,  5,  6,  7,  8,  9, 10])"
      ]
     },
     "execution_count": 7,
     "metadata": {},
     "output_type": "execute_result"
    }
   ],
   "source": [
    "arr"
   ]
  },
  {
   "cell_type": "code",
   "execution_count": 8,
   "metadata": {},
   "outputs": [],
   "source": [
    "B_INC = 0.0000000001"
   ]
  },
  {
   "cell_type": "code",
   "execution_count": 9,
   "metadata": {},
   "outputs": [],
   "source": [
    "NUM_NEIGHB = 27\n",
    "\n",
    "def get_site(coord, L):\n",
    "    \"\"\"Get the site index from the 3-vector of coordinates.\"\"\"\n",
    "    # XXX: 3D hardcoded, can do N-D\n",
    "    return coord[0] * L[1] * L[2] + coord[1] * L[2] + coord[2]\n",
    "\n",
    "\n",
    "def get_coord(site, L):\n",
    "    \"\"\"Get the 3-vector of coordinates from the site index.\"\"\"\n",
    "    # XXX: 3D hardcoded, can do N-D\n",
    "    x = site // (L[1]*L[2])\n",
    "    yz = site % (L[1]*L[2])\n",
    "    y = yz // L[2]\n",
    "    z = yz % L[2]\n",
    "    return [x, y, z]\n",
    "\n",
    "\n",
    "def get_neighbors(site, L):\n",
    "    neighb = set()\n",
    "    x, y, z = get_coord(site, L)\n",
    "    for i in [-1, 0, 1]:\n",
    "        for j in [-1, 0, 1]:\n",
    "            for k in [-1, 0, 1]:\n",
    "                x1 = (x + i) % L[0]\n",
    "                y1 = (y + j) % L[1]\n",
    "                z1 = (z + k) % L[2]\n",
    "                neighb.add(get_site([x1, y1, z1], L))\n",
    "    \n",
    "    return list(neighb)\n",
    "    \n",
    "def tabulate_neighbors(L):\n",
    "    \"\"\"Tabulate the root-2 neighbors on the 3D cubic lattice with PBC.\"\"\"\n",
    "    Nsite = L[0]*L[1]*L[2]\n",
    "    neighb = np.empty((Nsite, NUM_NEIGHB), dtype=int)\n",
    "    for site in range(Nsite):\n",
    "        neighb[site, :] = get_neighbors(site, L)\n",
    "    return neighb\n",
    "\n",
    "\n",
    "\n",
    "def tabulate_neighbors_small_L(L):\n",
    "    \"\"\"\n",
    "    Tabulate the root-2 neighbors on the 3D cubic lattice with PBC.\n",
    "    Must be used when L[0], L[1] or L[2] < 3 \n",
    "    \"\"\"\n",
    "    Nsite = L[0]*L[1]*L[2]\n",
    "    neighb = [[]] * Nsite\n",
    "    for site in range(Nsite):\n",
    "        neighb[site] = get_neighbors(site, L)\n",
    "    return neighb"
   ]
  },
  {
   "cell_type": "code",
   "execution_count": 10,
   "metadata": {},
   "outputs": [],
   "source": [
    "@cuda.jit\n",
    "def culc_scores(grid, neighbors, scores, b):\n",
    "    site = cuda.grid(1)\n",
    "    if site < grid.size:\n",
    "        for site1 in neighbors[site]:\n",
    "            scores[site] += (1 - grid[site1])\n",
    "\n",
    "        if grid[site] == 1:\n",
    "            scores[site] *= b\n",
    "            \n",
    "@cuda.jit\n",
    "def new_stratagies(grid, current, neighbors, scores, b):\n",
    "    site = cuda.grid(1)\n",
    "    if site < grid.size:\n",
    "        best_site = site\n",
    "        for site1 in neighbors[site]:\n",
    "            if (scores[best_site] < scores[site1]):\n",
    "                best_site = site1\n",
    "\n",
    "        grid[site] = current[best_site]\n",
    "\n",
    "@cuda.jit\n",
    "def make_zeros(to_zeros):\n",
    "    pos = cuda.grid(1)\n",
    "    if pos < to_zeros.size:\n",
    "        to_zeros[pos] = 0\n",
    "        \n",
    "        \n",
    "@cuda.jit\n",
    "def copy_ar(a, b):\n",
    "    pos = cuda.grid(1)\n",
    "    if pos < a.size:\n",
    "        a[pos] = b[pos]"
   ]
  },
  {
   "cell_type": "code",
   "execution_count": 11,
   "metadata": {},
   "outputs": [],
   "source": [
    "def evolve3D_3(grid, neighbors, b, num_steps=1):\n",
    "    L = field.shape\n",
    "    grid = grid.flatten().astype(int)\n",
    "    SIZE = len(grid)\n",
    "    _zeros = np.zeros((SIZE), dtype=float)\n",
    "    _int_zeros = np.zeros((SIZE), dtype=int)\n",
    "    evolve3D_impl(grid, neighbors, b, num_steps, _zeros, _int_zeros)\n",
    "    \n",
    "    return np.reshape(grid, L)\n",
    "\n",
    "def evolve3D_impl(grid, neighbors, b, num_steps, _zeros, _int_zeros):\n",
    "    \n",
    "    ''' threads and blocks for cuda computation'''\n",
    "    threadsperblock = 32\n",
    "    blockspergrid = (arr.size + (threadsperblock - 1)) // threadsperblock\n",
    "    \n",
    "    \n",
    "    ''' allocate global arrays '''\n",
    "    current = cuda.to_device(_int_zeros)\n",
    "    scores = cuda.to_device(_zeros)\n",
    "    grid_global = cuda.to_device(grid)\n",
    "    \n",
    "    for step in range(num_steps):\n",
    "        copy_ar[blockspergrid, threadsperblock](current, grid_global)\n",
    "        make_zeros[blockspergrid, threadsperblock](scores)\n",
    "        \n",
    "        culc_scores[blockspergrid, threadsperblock](grid_global, neighbors, scores, b)\n",
    "                \n",
    "        new_stratagies[blockspergrid, threadsperblock](grid_global, current, neighbors, scores, b)\n",
    "    grid = grid_global.copy_to_host()\n",
    "    return grid"
   ]
  },
  {
   "cell_type": "code",
   "execution_count": 12,
   "metadata": {},
   "outputs": [
    {
     "name": "stdout",
     "output_type": "stream",
     "text": [
      "(60, 60, 60)\n"
     ]
    }
   ],
   "source": [
    "import timeit\n",
    "rndm = np.random.RandomState(12345)\n",
    "N = 1\n",
    "Size = 60\n",
    "L = (Size, Size, Size)\n",
    "print(L)\n",
    "neighbors = tabulate_neighbors(L)\n",
    "field = (rndm.uniform(size=L) > 0.5).astype(int)\n",
    "field = evolve3D_3(field, neighbors, 1.3, num_steps=N)"
   ]
  },
  {
   "cell_type": "code",
   "execution_count": 13,
   "metadata": {},
   "outputs": [
    {
     "name": "stdout",
     "output_type": "stream",
     "text": [
      "8.16 s ± 84.1 ms per loop (mean ± std. dev. of 7 runs, 1 loop each)\n"
     ]
    }
   ],
   "source": [
    "%timeit evolve3D_3(field, neighbors, 1.3, num_steps=100)"
   ]
  },
  {
   "cell_type": "code",
   "execution_count": null,
   "metadata": {},
   "outputs": [],
   "source": []
  }
 ],
 "metadata": {
  "kernelspec": {
   "display_name": "Python 3",
   "language": "python",
   "name": "python3"
  },
  "language_info": {
   "codemirror_mode": {
    "name": "ipython",
    "version": 3
   },
   "file_extension": ".py",
   "mimetype": "text/x-python",
   "name": "python",
   "nbconvert_exporter": "python",
   "pygments_lexer": "ipython3",
   "version": "3.8.3"
  }
 },
 "nbformat": 4,
 "nbformat_minor": 4
}
